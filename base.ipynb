{
 "cells": [
  {
   "cell_type": "markdown",
   "metadata": {},
   "source": [
    "# Preparing the Dataset"
   ]
  },
  {
   "cell_type": "code",
   "execution_count": 22,
   "metadata": {},
   "outputs": [],
   "source": [
    "import os \n",
    "import sys \n",
    "from collections import Counter\n",
    "import re\n",
    "from typing import List\n",
    "import spacy \n",
    "import json \n",
    "import matplotlib.pyplot as plt \n",
    "import numpy as np\n",
    "import pickle\n",
    "import torch"
   ]
  },
  {
   "cell_type": "code",
   "execution_count": 2,
   "metadata": {},
   "outputs": [
    {
     "data": {
      "text/plain": [
       "<spacy.lang.en.English at 0x107e6ee00>"
      ]
     },
     "execution_count": 2,
     "metadata": {},
     "output_type": "execute_result"
    }
   ],
   "source": [
    "nlp = spacy.load(\"en_core_web_sm\")\n",
    "nlp"
   ]
  },
  {
   "cell_type": "code",
   "execution_count": 3,
   "metadata": {},
   "outputs": [],
   "source": [
    "def read_text_file(path: str) -> str:\n",
    "    \n",
    "    with open(path, \"r\", encoding='utf-8') as f: \n",
    "        text = f.read()\n",
    "    return text\n",
    "\n",
    "def generate_tokens_nlp(text: str, nlp=nlp):\n",
    "    \n",
    "    doc = nlp(text.lower())\n",
    "    tokens = [token.text for token in doc if not token.is_stop and token.is_alpha]\n",
    "    return tokens"
   ]
  },
  {
   "cell_type": "code",
   "execution_count": 6,
   "metadata": {},
   "outputs": [],
   "source": [
    "train_pos_path = \"data/train/positive/\"\n",
    "train_neg_path = \"data/train/negative/\"\n",
    "\n",
    "train_dict = {} # { 'hello there' : 0, \"hi there\" : 1 }\n",
    "len_list = []\n",
    "word_counter = Counter()\n",
    "\n",
    "for example_path in os.listdir(train_pos_path): \n",
    "    \n",
    "    doc_path = os.path.join(train_pos_path, example_path)\n",
    "    text = read_text_file(doc_path)\n",
    "    tokens = generate_tokens_nlp(text)\n",
    "    \n",
    "    if len(tokens) == 0: \n",
    "        print(example_path)\n",
    "    \n",
    "    word_counter.update(tokens)\n",
    "    len_list.append(len(tokens))\n",
    "    train_dict[' '.join(tokens)] = 1\n",
    "    \n",
    "for example_path in os.listdir(train_neg_path):\n",
    "    \n",
    "    doc_path = os.path.join(train_neg_path, example_path)\n",
    "    text = read_text_file(doc_path)\n",
    "    tokens = generate_tokens_nlp(text)\n",
    "    \n",
    "    if len(tokens) == 0: \n",
    "        print(example_path)\n",
    "        \n",
    "    word_counter.update(tokens)\n",
    "    len_list.append(len(tokens))\n",
    "    train_dict[' '.join(tokens)] = 0\n",
    "    \n",
    "with open(\"data/train.json\", \"w\") as f: \n",
    "    json.dump(train_dict, f, indent=10)"
   ]
  },
  {
   "cell_type": "code",
   "execution_count": 8,
   "metadata": {},
   "outputs": [
    {
     "data": {
      "text/plain": [
       "(1985, 21701)"
      ]
     },
     "execution_count": 8,
     "metadata": {},
     "output_type": "execute_result"
    }
   ],
   "source": [
    "len(train_dict), len(word_counter)"
   ]
  },
  {
   "cell_type": "code",
   "execution_count": 115,
   "metadata": {},
   "outputs": [],
   "source": [
    "with open(\"data/word_counter.pkl\", \"wb\") as f: \n",
    "    pickle.dump(word_counter, f)"
   ]
  },
  {
   "cell_type": "code",
   "execution_count": 116,
   "metadata": {},
   "outputs": [],
   "source": [
    "with open(\"data/len_list.pkl\", \"wb\") as f: \n",
    "    pickle.dump(len_list, f)"
   ]
  },
  {
   "cell_type": "code",
   "execution_count": 9,
   "metadata": {},
   "outputs": [
    {
     "name": "stdout",
     "output_type": "stream",
     "text": [
      "999 986\n"
     ]
    }
   ],
   "source": [
    "num_pos = 0\n",
    "for key, value in train_dict.items():\n",
    "    num_pos += value \n",
    "    \n",
    "print(num_pos, len(train_dict)-num_pos)"
   ]
  },
  {
   "cell_type": "code",
   "execution_count": 10,
   "metadata": {},
   "outputs": [
    {
     "name": "stdout",
     "output_type": "stream",
     "text": [
      "2000\n",
      "73.662\n",
      "1554\n"
     ]
    }
   ],
   "source": [
    "print(len(len_list))\n",
    "avg_len = sum(len_list) / len(len_list)\n",
    "print(avg_len)\n",
    "\n",
    "max_len = max(len_list)\n",
    "print(max_len)"
   ]
  },
  {
   "cell_type": "code",
   "execution_count": 61,
   "metadata": {},
   "outputs": [
    {
     "data": {
      "text/plain": [
       "<matplotlib.lines.Line2D at 0x2aaba74c0>"
      ]
     },
     "execution_count": 61,
     "metadata": {},
     "output_type": "execute_result"
    },
    {
     "data": {
      "image/png": "[encoded data removed]",
      "text/plain": [
       "<Figure size 640x480 with 1 Axes>"
      ]
     },
     "metadata": {},
     "output_type": "display_data"
    }
   ],
   "source": [
    "plt.hist(len_list, bins=2000, color='blue', edgecolor='black', alpha=0.7)\n",
    "plt.axvline(x=100, color=\"red\", linestyle=\"--\")\n",
    "plt.axvline(x=64, color=\"red\", linestyle=\"--\")"
   ]
  },
  {
   "cell_type": "code",
   "execution_count": 9,
   "metadata": {},
   "outputs": [
    {
     "name": "stdout",
     "output_type": "stream",
     "text": [
      "data/train/positive/1611\n",
      "data/train/negative/658\n",
      "data/train/negative/851\n",
      "data/train/negative/723\n",
      "data/train/negative/961\n",
      "data/train/negative/761\n",
      "data/train/negative/410\n",
      "data/train/negative/615\n",
      "data/train/negative/473\n",
      "data/train/negative/495\n",
      "data/train/negative/124\n",
      "data/train/negative/1210\n",
      "data/train/negative/1889\n",
      "data/train/negative/1084\n",
      "data/train/negative/178\n"
     ]
    }
   ],
   "source": [
    "# let's check where the examples are going missing \n",
    "# some of the reviews are miss classified\n",
    "\n",
    "my_set = set()\n",
    "\n",
    "for example_path in os.listdir(train_pos_path):\n",
    "    \n",
    "    doc_path = os.path.join(train_pos_path, example_path)\n",
    "    with open(doc_path, \"r\") as f: \n",
    "        text = f.read()\n",
    "        \n",
    "    doc = nlp(text)\n",
    "    tokens = [token.text for token in doc if not token.is_stop and token.is_alpha]\n",
    "    s = \" \".join(tokens)\n",
    "    \n",
    "    if s in my_set: \n",
    "        print(doc_path)\n",
    "    my_set.add(s)\n",
    "    \n",
    "for example_path in os.listdir(train_neg_path):\n",
    "    \n",
    "    doc_path = os.path.join(train_neg_path, example_path)\n",
    "    with open(doc_path, \"r\") as f: \n",
    "        text = f.read()\n",
    "    doc = nlp(text)\n",
    "    tokens = [token.text for token in doc if not token.is_stop and token.is_alpha] \n",
    "    s = \" \".join(tokens)\n",
    "    if s in my_set: \n",
    "        print(doc_path)\n",
    "    my_set.add(s)"
   ]
  },
  {
   "cell_type": "markdown",
   "metadata": {},
   "source": [
    "- Let's get the pre-trained emebddings"
   ]
  },
  {
   "cell_type": "code",
   "execution_count": 11,
   "metadata": {},
   "outputs": [
    {
     "name": "stdout",
     "output_type": "stream",
     "text": [
      "<class 'list'>\n",
      "56051\n",
      "56050 100\n",
      "\n"
     ]
    }
   ],
   "source": [
    "with open(\"data/all.review.vec.txt\", \"r\", encoding=\"utf-8\") as file: \n",
    "    lines = file.readlines()\n",
    "    \n",
    "print(type(lines))\n",
    "print(len(lines))\n",
    "\n",
    "print(lines[0]) # num_words, embedding_dim\n",
    "lines = lines[1:]"
   ]
  },
  {
   "cell_type": "code",
   "execution_count": 12,
   "metadata": {},
   "outputs": [
    {
     "name": "stdout",
     "output_type": "stream",
     "text": [
      "56051\n"
     ]
    }
   ],
   "source": [
    "embedding = {\"</p>\" : ([float(0)]*100)} # padding token\n",
    "\n",
    "for line in lines: \n",
    "    parts = line.strip().split()\n",
    "    word = parts[0]\n",
    "    vec = [float(val) for val in parts[1:]]\n",
    "    embedding[word] = vec\n",
    "    \n",
    "print(len(embedding))\n",
    "\n",
    "\n",
    "with open(\"data/embedding.json\", \"w\") as f: \n",
    "    json.dump(embedding, f, indent=4)"
   ]
  },
  {
   "cell_type": "code",
   "execution_count": 13,
   "metadata": {},
   "outputs": [],
   "source": [
    "with open(\"data/embedding_words.txt\", \"w\") as f: \n",
    "    \n",
    "    for key in embedding.keys():\n",
    "        print(key, file=f)"
   ]
  },
  {
   "cell_type": "code",
   "execution_count": 14,
   "metadata": {},
   "outputs": [],
   "source": [
    "MAX_LEN = 80\n",
    "PADDING_TOKEN = \"</p>\"\n",
    "SOS_TOKEN = \"</s>\""
   ]
  },
  {
   "cell_type": "code",
   "execution_count": 15,
   "metadata": {},
   "outputs": [],
   "source": [
    "def text_2_vec(text: str, embedding=embedding, max_len=MAX_LEN, sos_token=SOS_TOKEN, pad_token=PADDING_TOKEN) -> List[List[float]]:\n",
    "    \n",
    "    # returns a 2 dim list embeddings of the following sentence\n",
    "    words = [sos_token] + text.lower().split()\n",
    "    \n",
    "    if len(words) < max_len:\n",
    "        words = words + (max_len - len(words)) * [pad_token]\n",
    "    \n",
    "    elif len(words) > MAX_LEN:\n",
    "        words = words[:max_len]\n",
    "                \n",
    "    input_sent = []\n",
    "    for word in words:\n",
    "        if word not in embedding.keys():\n",
    "            # add a padding token at the end of the sentence at skip this word\n",
    "            words.append(pad_token)\n",
    "            \n",
    "        else: \n",
    "            input_sent.append(embedding[word])\n",
    "    \n",
    "    return input_sent"
   ]
  },
  {
   "cell_type": "code",
   "execution_count": 121,
   "metadata": {},
   "outputs": [
    {
     "name": "stdout",
     "output_type": "stream",
     "text": [
      "np_input_data.shape = (1985, 80, 100), np_input_labels.shape = (1985,)\n"
     ]
    }
   ],
   "source": [
    "# preparing the dataset using the pre-trained embeddings first\n",
    "# skipping the out of vocab words\n",
    "\n",
    "input_data = [] # list of lists : later convert into numpy array\n",
    "input_labels = []\n",
    "\n",
    "with open(\"data/train.json\", \"r\") as f: \n",
    "    train_dict = json.load(f)\n",
    "\n",
    "for key, value in train_dict.items():\n",
    "    \n",
    "    input_labels.append(int(value))    \n",
    "    input_sent = text_2_vec(key)    \n",
    "    input_data.append(input_sent)\n",
    "\n",
    "np_input_data = np.array(input_data, dtype=np.float32)\n",
    "np_input_labels = np.array(input_labels)\n",
    "\n",
    "print(f\"np_input_data.shape = {np_input_data.shape}, np_input_labels.shape = {np_input_labels.shape}\")"
   ]
  },
  {
   "cell_type": "code",
   "execution_count": 122,
   "metadata": {},
   "outputs": [],
   "source": [
    "with open(\"data/data_pretrained_embeddings/np_train_input_80.pkl\", \"wb\") as f: \n",
    "    pickle.dump(np_input_data, f) \n",
    "\n",
    "with open(\"data/data_pretrained_embeddings/np_train_labels.pkl\", \"wb\") as f: \n",
    "    pickle.dump(np_input_labels, f)"
   ]
  },
  {
   "cell_type": "code",
   "execution_count": 127,
   "metadata": {},
   "outputs": [
    {
     "name": "stdout",
     "output_type": "stream",
     "text": [
      "np_test_input.shape = (2000, 80, 100), np_test_labels.shape = (2000,)\n",
      "np_test_input.dtype = float32, np_test_labels.dtype = int64\n"
     ]
    }
   ],
   "source": [
    "# let's prepare the same for the test set as well\n",
    "test_labels_path_pos = \"data/test/positive\"\n",
    "test_labels_path_neg = \"data/test/negative\"\n",
    "test_data_input = []\n",
    "test_data_labels = []\n",
    "\n",
    "for example_path in os.listdir(test_labels_path_pos):\n",
    "    \n",
    "    doc_path = os.path.join(test_labels_path_pos, example_path)\n",
    "    text = read_text_file(doc_path)\n",
    "    tokens = generate_tokens_nlp(text)\n",
    "    test_sent = text_2_vec(' '.join(tokens))\n",
    "    test_data_input.append(test_sent)\n",
    "    test_data_labels.append(int(1))\n",
    "    \n",
    "for example_path in os.listdir(test_labels_path_neg):\n",
    "    \n",
    "    doc_path = os.path.join(test_labels_path_neg, example_path)\n",
    "    text = read_text_file(doc_path)\n",
    "    tokens = generate_tokens_nlp(text)\n",
    "    test_sent = text_2_vec(' '.join(tokens))\n",
    "    test_data_input.append(test_sent)\n",
    "    test_data_labels.append(int(0))    \n",
    "    \n",
    "np_test_input = np.array(test_data_input, dtype=np.float32)\n",
    "np_test_labels = np.array(test_data_labels, dtype=np.int64)\n",
    "\n",
    "print(f\"np_test_input.shape = {np_test_input.shape}, np_test_labels.shape = {np_test_labels.shape}\")\n",
    "print(f\"np_test_input.dtype = {np_test_input.dtype}, np_test_labels.dtype = {np_test_labels.dtype}\")"
   ]
  },
  {
   "cell_type": "code",
   "execution_count": 130,
   "metadata": {},
   "outputs": [],
   "source": [
    "with open(\"data/data_pretrained_embeddings/np_test_input_80.pkl\", \"wb\") as f: \n",
    "    pickle.dump(np_test_input, f)\n",
    "    \n",
    "with open(\"data/data_pretrained_embeddings/np_test_labels.pkl\", \"wb\") as f: \n",
    "    pickle.dump(np_test_labels, f)"
   ]
  },
  {
   "cell_type": "markdown",
   "metadata": {},
   "source": [
    "- let's prepare dataset for non-pretrained embeddings as well"
   ]
  },
  {
   "cell_type": "code",
   "execution_count": 16,
   "metadata": {},
   "outputs": [
    {
     "name": "stdout",
     "output_type": "stream",
     "text": [
      "num_words = 21701\n"
     ]
    }
   ],
   "source": [
    "num_words = len(word_counter)\n",
    "print(f\"num_words = {num_words}\")"
   ]
  },
  {
   "cell_type": "code",
   "execution_count": 17,
   "metadata": {},
   "outputs": [
    {
     "name": "stdout",
     "output_type": "stream",
     "text": [
      "10000\n"
     ]
    }
   ],
   "source": [
    "VOCAB_SIZE = int(1e4) \n",
    "print(VOCAB_SIZE)"
   ]
  },
  {
   "cell_type": "code",
   "execution_count": 18,
   "metadata": {},
   "outputs": [
    {
     "name": "stdout",
     "output_type": "stream",
     "text": [
      "num_words = 10002\n"
     ]
    }
   ],
   "source": [
    "small_counter = word_counter.most_common(VOCAB_SIZE) # [(word, count)]\n",
    "word2index = {SOS_TOKEN: 0, PADDING_TOKEN: 1}\n",
    "index2word = {0: SOS_TOKEN, 1: PADDING_TOKEN}\n",
    "num_words = 2\n",
    "\n",
    "for word, count in small_counter:\n",
    "    word2index[word] = num_words\n",
    "    index2word[num_words] = word \n",
    "    num_words += 1\n",
    "    \n",
    "print(f\"num_words = {num_words}\")"
   ]
  },
  {
   "cell_type": "code",
   "execution_count": 134,
   "metadata": {},
   "outputs": [],
   "source": [
    "with open(\"data/data_train_embeddings/word2index.pkl\", \"wb\") as f: \n",
    "    pickle.dump(word2index, f)\n",
    "\n",
    "with open(\"data/data_train_embeddings/index2word.pkl\", \"wb\") as f: \n",
    "    pickle.dump(index2word, f)"
   ]
  },
  {
   "cell_type": "code",
   "execution_count": 19,
   "metadata": {},
   "outputs": [],
   "source": [
    "def text2index(text: str, word2index=word2index, max_len=MAX_LEN, sos_token=SOS_TOKEN, pad_token=PADDING_TOKEN) -> List[int]:\n",
    "    \n",
    "    # skipping out of vocab words and adding a padding token for it at the end\n",
    "    \n",
    "    words = [sos_token] + text.lower().split()\n",
    "    \n",
    "    if len(words) < max_len:\n",
    "        words = words + (max_len - len(words)) * [pad_token]\n",
    "    \n",
    "    elif len(words) > MAX_LEN:\n",
    "        words = words[:max_len]\n",
    "                \n",
    "    input_sent = []\n",
    "    for word in words: \n",
    "        if word not in word2index.keys():\n",
    "            words.append(pad_token)\n",
    "        else: \n",
    "            input_sent.append(int(word2index[word]))\n",
    "    \n",
    "    return input_sent"
   ]
  },
  {
   "cell_type": "code",
   "execution_count": 20,
   "metadata": {},
   "outputs": [
    {
     "name": "stdout",
     "output_type": "stream",
     "text": [
      "np_input_data.shape = (1985, 80), np_input_data.dtype = int64\n"
     ]
    }
   ],
   "source": [
    "input_data = []\n",
    "\n",
    "with open(\"data/train.json\", \"r\") as f: \n",
    "    train_dict = json.load(f)\n",
    "    \n",
    "for text in train_dict.keys():\n",
    "    \n",
    "    input_sent = text2index(text)\n",
    "    input_data.append(input_sent)\n",
    "    \n",
    "np_input_data = np.array(input_data)\n",
    "print(f\"np_input_data.shape = {np_input_data.shape}, np_input_data.dtype = {np_input_data.dtype}\")"
   ]
  },
  {
   "cell_type": "code",
   "execution_count": 24,
   "metadata": {},
   "outputs": [],
   "source": [
    "with open(\"data/data_train_embeddings/np_train_input_80.pkl\", \"wb\") as f: \n",
    "    pickle.dump(np_input_data, f)"
   ]
  },
  {
   "cell_type": "code",
   "execution_count": 25,
   "metadata": {},
   "outputs": [
    {
     "name": "stdout",
     "output_type": "stream",
     "text": [
      "np_test_input.shape = (2000, 80), np_test_labels.shape = (2000,)\n",
      "np_test_input.dtype = int64, np_test_labels.dtype = int64\n"
     ]
    }
   ],
   "source": [
    "# let's prepare the same for the test set as well\n",
    "test_labels_path_pos = \"data/test/positive\"\n",
    "test_labels_path_neg = \"data/test/negative\"\n",
    "test_data_input = []\n",
    "test_data_labels = []\n",
    "\n",
    "for example_path in os.listdir(test_labels_path_pos):\n",
    "    \n",
    "    doc_path = os.path.join(test_labels_path_pos, example_path)\n",
    "    text = read_text_file(doc_path)\n",
    "    tokens = generate_tokens_nlp(text)\n",
    "    test_sent = text2index(' '.join(tokens))\n",
    "    \n",
    "    test_data_input.append(test_sent)\n",
    "    test_data_labels.append(int(1))\n",
    "    \n",
    "    \n",
    "for example_path in os.listdir(test_labels_path_neg):\n",
    "    \n",
    "    doc_path = os.path.join(test_labels_path_neg, example_path)\n",
    "    text = read_text_file(doc_path)\n",
    "    tokens = generate_tokens_nlp(text)\n",
    "    test_sent = text2index(' '.join(tokens))\n",
    "    \n",
    "    test_data_input.append(test_sent)\n",
    "    test_data_labels.append(int(0))    \n",
    "    \n",
    "np_test_input = np.array(test_data_input, dtype=np.int64)\n",
    "np_test_labels = np.array(test_data_labels, dtype=np.int64)\n",
    "\n",
    "print(f\"np_test_input.shape = {np_test_input.shape}, np_test_labels.shape = {np_test_labels.shape}\")\n",
    "print(f\"np_test_input.dtype = {np_test_input.dtype}, np_test_labels.dtype = {np_test_labels.dtype}\")"
   ]
  },
  {
   "cell_type": "code",
   "execution_count": 105,
   "metadata": {},
   "outputs": [],
   "source": [
    "with open(\"data/data_train_embeddings/np_test_input_80.pkl\", \"wb\") as f: \n",
    "    pickle.dump(np_test_input, f)\n",
    "    \n",
    "with open(\"data/data_train_embeddings/np_test_labels.pkl\", \"wb\") as f: \n",
    "    pickle.dump(np_test_labels, f)"
   ]
  },
  {
   "cell_type": "code",
   "execution_count": null,
   "metadata": {},
   "outputs": [],
   "source": []
  }
 ],
 "metadata": {
  "kernelspec": {
   "display_name": "base",
   "language": "python",
   "name": "python3"
  },
  "language_info": {
   "codemirror_mode": {
    "name": "ipython",
    "version": 3
   },
   "file_extension": ".py",
   "mimetype": "text/x-python",
   "name": "python",
   "nbconvert_exporter": "python",
   "pygments_lexer": "ipython3",
   "version": "3.10.8"
  },
  "orig_nbformat": 4
 },
 "nbformat": 4,
 "nbformat_minor": 2
}
